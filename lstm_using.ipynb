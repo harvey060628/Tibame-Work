{
  "nbformat": 4,
  "nbformat_minor": 0,
  "metadata": {
    "colab": {
      "name": "lstm_using.ipynb",
      "provenance": []
    },
    "kernelspec": {
      "name": "python3",
      "display_name": "Python 3"
    }
  },
  "cells": [
    {
      "cell_type": "code",
      "metadata": {
        "id": "KFhm-2Lauadj",
        "colab_type": "code",
        "colab": {}
      },
      "source": [
        "import jieba\n",
        "from urllib.request import urlretrieve\n",
        "url = \"https://github.com/fxsjy/jieba/raw/master/extra_dict/dict.txt.big\"\n",
        "urlretrieve(url, \"dict.txt.big\")\n",
        "jieba.set_dictionary(\"dict.txt.big\")"
      ],
      "execution_count": 0,
      "outputs": []
    },
    {
      "cell_type": "code",
      "metadata": {
        "id": "XVAKL92K1n8R",
        "colab_type": "code",
        "colab": {}
      },
      "source": [
        "def commentcut(s):\n",
        "    s = s.replace(\" \", \"\").replace(\":\", \"\").replace(\"n\", \"\").replace(\"r\", \"\").replace(\"r\", \"...\")\n",
        "    s = \" \".join(jieba.cut(s))\n",
        "    \n",
        "    return s"
      ],
      "execution_count": 0,
      "outputs": []
    },
    {
      "cell_type": "code",
      "metadata": {
        "id": "f4bkcz-Z185Z",
        "colab_type": "code",
        "colab": {}
      },
      "source": [
        "import pandas as pd\n",
        "\n",
        "df = pd.read_table(\"drive/My Drive/pos_neg/pos_chi.txt\")\n",
        "len(df[\"content\"][23576])\n",
        "for i , j in enumerate(df[\"content\"]):\n",
        "    if len(j)<9:\n",
        "        df = df.drop([i])\n",
        "df.reset_index(drop=True, inplace=True)\n"
      ],
      "execution_count": 0,
      "outputs": []
    },
    {
      "cell_type": "code",
      "metadata": {
        "id": "RExdL0V59css",
        "colab_type": "code",
        "colab": {
          "base_uri": "https://localhost:8080/",
          "height": 399
        },
        "outputId": "9c3d259b-cd91-4c12-8b7f-e83251ff3dc7"
      },
      "source": [
        "df"
      ],
      "execution_count": 11,
      "outputs": [
        {
          "output_type": "execute_result",
          "data": {
            "text/html": [
              "<div>\n",
              "<style scoped>\n",
              "    .dataframe tbody tr th:only-of-type {\n",
              "        vertical-align: middle;\n",
              "    }\n",
              "\n",
              "    .dataframe tbody tr th {\n",
              "        vertical-align: top;\n",
              "    }\n",
              "\n",
              "    .dataframe thead th {\n",
              "        text-align: right;\n",
              "    }\n",
              "</style>\n",
              "<table border=\"1\" class=\"dataframe\">\n",
              "  <thead>\n",
              "    <tr style=\"text-align: right;\">\n",
              "      <th></th>\n",
              "      <th>content</th>\n",
              "    </tr>\n",
              "  </thead>\n",
              "  <tbody>\n",
              "    <tr>\n",
              "      <th>0</th>\n",
              "      <td>好 感謝一樓大大，我來裝看看！感恩</td>\n",
              "    </tr>\n",
              "    <tr>\n",
              "      <th>1</th>\n",
              "      <td>thx u12 life</td>\n",
              "    </tr>\n",
              "    <tr>\n",
              "      <th>2</th>\n",
              "      <td>S6 Lite 入門就 64G，還送不錯的筆跟套</td>\n",
              "    </tr>\n",
              "    <tr>\n",
              "      <th>3</th>\n",
              "      <td>S5E 螢幕好很多 常使用就買比較不傷眼的</td>\n",
              "    </tr>\n",
              "    <tr>\n",
              "      <th>4</th>\n",
              "      <td>你有買很好啊！不要像有個人自稱有買note1</td>\n",
              "    </tr>\n",
              "    <tr>\n",
              "      <th>...</th>\n",
              "      <td>...</td>\n",
              "    </tr>\n",
              "    <tr>\n",
              "      <th>19889</th>\n",
              "      <td>看成apple控告高通性侵@@ 11/3</td>\n",
              "    </tr>\n",
              "    <tr>\n",
              "      <th>19890</th>\n",
              "      <td>原po好帥人超好快幫我改啦嗚嗚嗚嗚 11/26 19</td>\n",
              "    </tr>\n",
              "    <tr>\n",
              "      <th>19891</th>\n",
              "      <td>實蠻快的，服務也很棒 11/</td>\n",
              "    </tr>\n",
              "    <tr>\n",
              "      <th>19892</th>\n",
              "      <td>i8真的只是煙霧彈@@ 1</td>\n",
              "    </tr>\n",
              "    <tr>\n",
              "      <th>19893</th>\n",
              "      <td>教徒一定是買新的 誰要買8 1</td>\n",
              "    </tr>\n",
              "  </tbody>\n",
              "</table>\n",
              "<p>19894 rows × 1 columns</p>\n",
              "</div>"
            ],
            "text/plain": [
              "                           content\n",
              "0               好 感謝一樓大大，我來裝看看！感恩 \n",
              "1                    thx u12 life \n",
              "2        S6 Lite 入門就 64G，還送不錯的筆跟套 \n",
              "3           S5E 螢幕好很多 常使用就買比較不傷眼的 \n",
              "4           你有買很好啊！不要像有個人自稱有買note1\n",
              "...                            ...\n",
              "19889         看成apple控告高通性侵@@ 11/3\n",
              "19890   原po好帥人超好快幫我改啦嗚嗚嗚嗚 11/26 19\n",
              "19891               實蠻快的，服務也很棒 11/\n",
              "19892                i8真的只是煙霧彈@@ 1\n",
              "19893              教徒一定是買新的 誰要買8 1\n",
              "\n",
              "[19894 rows x 1 columns]"
            ]
          },
          "metadata": {
            "tags": []
          },
          "execution_count": 11
        }
      ]
    },
    {
      "cell_type": "code",
      "metadata": {
        "id": "IeMfcTZ6BZ0H",
        "colab_type": "code",
        "outputId": "288c524a-68f2-4787-ed71-ecccff768158",
        "colab": {
          "base_uri": "https://localhost:8080/",
          "height": 399
        }
      },
      "source": [
        "import re\n",
        "punctuation = \"\"\"@/1 ，！？｡＂\"＃'~,、+!.\\＄％＆*＇（）＊＋－／：；＜＝＞＠［＼］＾＿｀｛｜｝～｟｠｢｣､、〃》「」『』【】〔〕〖〗〘〙〚〛〜〝〞〟〰〾〿–—‘'‛“”„‟…‧﹏\"\"\"\n",
        "re_punctuation = \"[{}]+\".format(punctuation)\n",
        "for i in range(0, len(df[\"content\"])):\n",
        "    df[\"content\"][i] = re.sub(re_punctuation, \"\", df[\"content\"][i])\n",
        "df\n"
      ],
      "execution_count": 12,
      "outputs": [
        {
          "output_type": "execute_result",
          "data": {
            "text/html": [
              "<div>\n",
              "<style scoped>\n",
              "    .dataframe tbody tr th:only-of-type {\n",
              "        vertical-align: middle;\n",
              "    }\n",
              "\n",
              "    .dataframe tbody tr th {\n",
              "        vertical-align: top;\n",
              "    }\n",
              "\n",
              "    .dataframe thead th {\n",
              "        text-align: right;\n",
              "    }\n",
              "</style>\n",
              "<table border=\"1\" class=\"dataframe\">\n",
              "  <thead>\n",
              "    <tr style=\"text-align: right;\">\n",
              "      <th></th>\n",
              "      <th>content</th>\n",
              "    </tr>\n",
              "  </thead>\n",
              "  <tbody>\n",
              "    <tr>\n",
              "      <th>0</th>\n",
              "      <td>好感謝一樓大大我來裝看看感恩</td>\n",
              "    </tr>\n",
              "    <tr>\n",
              "      <th>1</th>\n",
              "      <td>thxu2life</td>\n",
              "    </tr>\n",
              "    <tr>\n",
              "      <th>2</th>\n",
              "      <td>S6Lite入門就64G還送不錯的筆跟套</td>\n",
              "    </tr>\n",
              "    <tr>\n",
              "      <th>3</th>\n",
              "      <td>S5E螢幕好很多常使用就買比較不傷眼的</td>\n",
              "    </tr>\n",
              "    <tr>\n",
              "      <th>4</th>\n",
              "      <td>你有買很好啊不要像有個人自稱有買note</td>\n",
              "    </tr>\n",
              "    <tr>\n",
              "      <th>...</th>\n",
              "      <td>...</td>\n",
              "    </tr>\n",
              "    <tr>\n",
              "      <th>19889</th>\n",
              "      <td>看成apple控告高通性侵3</td>\n",
              "    </tr>\n",
              "    <tr>\n",
              "      <th>19890</th>\n",
              "      <td>原po好帥人超好快幫我改啦嗚嗚嗚嗚269</td>\n",
              "    </tr>\n",
              "    <tr>\n",
              "      <th>19891</th>\n",
              "      <td>實蠻快的服務也很棒</td>\n",
              "    </tr>\n",
              "    <tr>\n",
              "      <th>19892</th>\n",
              "      <td>i8真的只是煙霧彈</td>\n",
              "    </tr>\n",
              "    <tr>\n",
              "      <th>19893</th>\n",
              "      <td>教徒一定是買新的誰要買8</td>\n",
              "    </tr>\n",
              "  </tbody>\n",
              "</table>\n",
              "<p>19894 rows × 1 columns</p>\n",
              "</div>"
            ],
            "text/plain": [
              "                    content\n",
              "0            好感謝一樓大大我來裝看看感恩\n",
              "1                 thxu2life\n",
              "2      S6Lite入門就64G還送不錯的筆跟套\n",
              "3       S5E螢幕好很多常使用就買比較不傷眼的\n",
              "4      你有買很好啊不要像有個人自稱有買note\n",
              "...                     ...\n",
              "19889        看成apple控告高通性侵3\n",
              "19890  原po好帥人超好快幫我改啦嗚嗚嗚嗚269\n",
              "19891             實蠻快的服務也很棒\n",
              "19892             i8真的只是煙霧彈\n",
              "19893          教徒一定是買新的誰要買8\n",
              "\n",
              "[19894 rows x 1 columns]"
            ]
          },
          "metadata": {
            "tags": []
          },
          "execution_count": 12
        }
      ]
    },
    {
      "cell_type": "code",
      "metadata": {
        "id": "a_ZnKYaQDUDC",
        "colab_type": "code",
        "outputId": "61769bf0-aebe-4cf0-920a-7644ef29a193",
        "colab": {
          "base_uri": "https://localhost:8080/",
          "height": 470
        }
      },
      "source": [
        "df[\"content\"] = df[\"content\"].apply(commentcut)\n",
        "df"
      ],
      "execution_count": 13,
      "outputs": [
        {
          "output_type": "stream",
          "text": [
            "Building prefix dict from /content/dict.txt.big ...\n",
            "Dumping model to file cache /tmp/jieba.u501edca284da514cb68b53a20324f4e3.cache\n",
            "Loading model cost 1.609 seconds.\n",
            "Prefix dict has been built successfully.\n"
          ],
          "name": "stderr"
        },
        {
          "output_type": "execute_result",
          "data": {
            "text/html": [
              "<div>\n",
              "<style scoped>\n",
              "    .dataframe tbody tr th:only-of-type {\n",
              "        vertical-align: middle;\n",
              "    }\n",
              "\n",
              "    .dataframe tbody tr th {\n",
              "        vertical-align: top;\n",
              "    }\n",
              "\n",
              "    .dataframe thead th {\n",
              "        text-align: right;\n",
              "    }\n",
              "</style>\n",
              "<table border=\"1\" class=\"dataframe\">\n",
              "  <thead>\n",
              "    <tr style=\"text-align: right;\">\n",
              "      <th></th>\n",
              "      <th>content</th>\n",
              "    </tr>\n",
              "  </thead>\n",
              "  <tbody>\n",
              "    <tr>\n",
              "      <th>0</th>\n",
              "      <td>好 感謝 一樓 大大 我來裝 看看 感恩</td>\n",
              "    </tr>\n",
              "    <tr>\n",
              "      <th>1</th>\n",
              "      <td>thxu2life</td>\n",
              "    </tr>\n",
              "    <tr>\n",
              "      <th>2</th>\n",
              "      <td>S6Lite 入門 就 64G 還送 不錯 的 筆跟套</td>\n",
              "    </tr>\n",
              "    <tr>\n",
              "      <th>3</th>\n",
              "      <td>S5E 螢幕 好 很多 常 使用 就 買 比較 不 傷眼 的</td>\n",
              "    </tr>\n",
              "    <tr>\n",
              "      <th>4</th>\n",
              "      <td>你 有 買 很 好 啊 不要 像 有 個人 自稱 有 買 ote</td>\n",
              "    </tr>\n",
              "    <tr>\n",
              "      <th>...</th>\n",
              "      <td>...</td>\n",
              "    </tr>\n",
              "    <tr>\n",
              "      <th>19889</th>\n",
              "      <td>看成 apple 控告 高通 性侵 3</td>\n",
              "    </tr>\n",
              "    <tr>\n",
              "      <th>19890</th>\n",
              "      <td>原 po 好帥 人 超好 快 幫 我 改 啦 嗚嗚 嗚嗚 269</td>\n",
              "    </tr>\n",
              "    <tr>\n",
              "      <th>19891</th>\n",
              "      <td>實蠻 快 的 服務 也 很棒</td>\n",
              "    </tr>\n",
              "    <tr>\n",
              "      <th>19892</th>\n",
              "      <td>i8 真的 只是 煙霧彈</td>\n",
              "    </tr>\n",
              "    <tr>\n",
              "      <th>19893</th>\n",
              "      <td>教徒 一定 是 買 新 的 誰 要 買 8</td>\n",
              "    </tr>\n",
              "  </tbody>\n",
              "</table>\n",
              "<p>19894 rows × 1 columns</p>\n",
              "</div>"
            ],
            "text/plain": [
              "                                content\n",
              "0                  好 感謝 一樓 大大 我來裝 看看 感恩\n",
              "1                             thxu2life\n",
              "2           S6Lite 入門 就 64G 還送 不錯 的 筆跟套\n",
              "3        S5E 螢幕 好 很多 常 使用 就 買 比較 不 傷眼 的\n",
              "4      你 有 買 很 好 啊 不要 像 有 個人 自稱 有 買 ote\n",
              "...                                 ...\n",
              "19889               看成 apple 控告 高通 性侵 3\n",
              "19890  原 po 好帥 人 超好 快 幫 我 改 啦 嗚嗚 嗚嗚 269\n",
              "19891                    實蠻 快 的 服務 也 很棒\n",
              "19892                      i8 真的 只是 煙霧彈\n",
              "19893             教徒 一定 是 買 新 的 誰 要 買 8\n",
              "\n",
              "[19894 rows x 1 columns]"
            ]
          },
          "metadata": {
            "tags": []
          },
          "execution_count": 13
        }
      ]
    },
    {
      "cell_type": "code",
      "metadata": {
        "id": "mLaSqhKwItOF",
        "colab_type": "code",
        "colab": {}
      },
      "source": [
        "# Import the necessary modules\n",
        "import pickle\n",
        "import numpy as np\n",
        "from tensorflow.keras.models import load_model\n",
        "from tensorflow.keras.preprocessing.sequence import pad_sequences\n",
        "\n",
        "\n",
        "# 匯入字典\n",
        "with open('drive/My Drive/tokenizer.pickle', 'rb') as f:\n",
        "    tok = pickle.load(f)\n",
        "with open('drive/My Drive/label_dict.pk', 'rb') as f:\n",
        "    output_dictionary = pickle.load(f)\n",
        "\n",
        "# 載入模型\n",
        "model_save_path = 'drive/My Drive/lstm_model.h5'\n",
        "lstm_model = load_model(model_save_path)"
      ],
      "execution_count": 0,
      "outputs": []
    },
    {
      "cell_type": "code",
      "metadata": {
        "id": "Dfo3BQxyLThr",
        "colab_type": "code",
        "colab": {}
      },
      "source": [
        "for i in df[\"content\"][0:100]:\n",
        "  print(i)"
      ],
      "execution_count": 0,
      "outputs": []
    },
    {
      "cell_type": "code",
      "metadata": {
        "id": "xtNgZLCiMyXh",
        "colab_type": "code",
        "outputId": "27675c92-d0d8-48e1-f81d-82e77f4e347f",
        "colab": {
          "base_uri": "https://localhost:8080/",
          "height": 657
        }
      },
      "source": [
        "pos = 0\n",
        "neg = 0\n",
        "count = 0\n",
        "for i in df[\"content\"][0:100]:\n",
        "    # 資料預處理\n",
        "    # sent = [\"S5E 螢幕 好 很多 常 使用 就 買 比較 不 傷眼 的\"]\n",
        "    # tok = Tokenizer(num_words=20000)\n",
        "    # tok.fit_on_texts(x)\n",
        "\n",
        "    x = tok.texts_to_sequences([i])\n",
        "    x_pad = pad_sequences(x, maxlen=128)\n",
        "    # print(x_pad)\n",
        "\n",
        "    # 模型預測\n",
        "    y_predict = lstm_model.predict(x_pad)\n",
        "    label_dict = {v:k for k,v in output_dictionary.items()}\n",
        "    # print('輸入語句: %s' % sent)\n",
        "    # print('情感預測結果: %s' % label_dict[np.argmax(y_predict)])\n",
        "    if np.argmax(y_predict) == 0:\n",
        "        neg += 1\n",
        "        print(i)\n",
        "    elif np.argmax(y_predict) == 1:\n",
        "        pos += 1\n",
        "    count += 1\n",
        "print(f\"在{count}則正向評論中，您的預測準度為:\", 100*round(float(pos/count), 2),\"%\")"
      ],
      "execution_count": 15,
      "outputs": [
        {
          "output_type": "stream",
          "text": [
            "好 感謝 一樓 大大 我來裝 看看 感恩\n",
            "thxu2life\n",
            "S6Lite 入門 就 64G 還送 不錯 的 筆跟套\n",
            "SE2 就 續航 差小 螢幕 大 尺寸 高效 時會 過熱 降頻 大多\n",
            "樓上 說 的 太好了 那 我們 應該 先來 分中階 低階\n",
            "當 了 四次 多 打 看錯\n",
            "哈哈哈 釣出 一堆 超 好笑\n",
            "魚兒 效果 卓越 呢\n",
            "ipad 也 是 大 螢幕 iphoe 啊 不能 取代 筆電 而且 返回\n",
            "台版 雖然 是 高通 但是 比較 喜歡 韓版 的 特殊 色 XD\n",
            "感謝 各位 的 建議 我會 去 買 防水 套 來用 的\n",
            "買 防水 套 才 是 真 防水 任何 標榜 防水 的 手機 受潮 維修\n",
            "下次 可 以來 個 凹面 螢幕 進去 嗎\n",
            "曲面 視覺 很爽 又 漂亮 用 習慣 就 不 容易 誤觸 了\n",
            "剛剛 狂玩好 有趣\n",
            "Note9 已經 算是 續航 很棒 的 三星 旗艦 了\n",
            "我 Adoid9 成功 開卡 拿到 全家 禮券\n",
            "mobilepay 討論 很 多次 了 窩 就是 有鎖 地區\n",
            "感覺 很 不錯 耶早 用 早 感受 5G\n",
            "微風 南山 很快 啦 3\n",
            "S 系列 打 年輕 和 小資 族群 這 顏色 很 適合 啊 用 重色 就\n",
            "恭喜 入手 我 也 拿 了 一台 晴空 藍 但 我 覺得 最 好看 的 是\n",
            "微軟 喔 加油 捏 xboxlik\n",
            "不用 切 回來 所以 是 開 了 payapp 他 就 會 自己 優先 用\n",
            "而是 得 手動 操作 加值 每次 你 可以 選 不同 卡\n",
            "iOS 流口水\n",
            "可以 同 NFCSIM 機器 加值 或是 超商 零錢 加值 都行\n",
            "太棒了 台北 是 三星 的 城市\n",
            "保護 貼 應該 好找 很多\n",
            "早 在 用 遠傳 的 fc 悠遊 卡 了 很 方便 而且 可以 設定 自\n",
            "Ulta 相機 沒 調教 好 真的 蠻 意外 的 加上 價格 搞不好\n",
            "含 贈品 含 兩年 保含 螢幕 保險 當然 會 比 國外 高\n",
            "考驗 信仰 的 時候 來 了\n",
            "某 sh 真好玩 什麼 粉 就 等於 通粉 哈哈\n",
            "高 售價 也許 可以 拉長 換機 期 比較 環保 讚 讚\n",
            "在100則正向評論中，您的預測準度為: 65.0 %\n"
          ],
          "name": "stdout"
        }
      ]
    },
    {
      "cell_type": "code",
      "metadata": {
        "id": "IKln35NFXBtp",
        "colab_type": "code",
        "outputId": "6be0bc1d-e500-4af2-c946-c88a6c12267f",
        "colab": {
          "base_uri": "https://localhost:8080/",
          "height": 33
        }
      },
      "source": [
        "y_predict\n"
      ],
      "execution_count": 0,
      "outputs": [
        {
          "output_type": "execute_result",
          "data": {
            "text/plain": [
              "array([[0.7310681 , 0.26893187]], dtype=float32)"
            ]
          },
          "metadata": {
            "tags": []
          },
          "execution_count": 10
        }
      ]
    },
    {
      "cell_type": "code",
      "metadata": {
        "id": "ID1vzejZ3_r-",
        "colab_type": "code",
        "outputId": "c7b132a7-4003-420a-b53c-fa7296b4ba85",
        "colab": {
          "base_uri": "https://localhost:8080/",
          "height": 33
        }
      },
      "source": [
        "s=\"123456123456\"\n",
        "s.rsplit(\"5\", 1)"
      ],
      "execution_count": 0,
      "outputs": [
        {
          "output_type": "execute_result",
          "data": {
            "text/plain": [
              "['1234561234', '6']"
            ]
          },
          "metadata": {
            "tags": []
          },
          "execution_count": 11
        }
      ]
    }
  ]
}